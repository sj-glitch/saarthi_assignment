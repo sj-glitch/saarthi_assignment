{
  "nbformat": 4,
  "nbformat_minor": 0,
  "metadata": {
    "colab": {
      "name": "Saarthi_assignment_python.ipynb",
      "provenance": []
    },
    "kernelspec": {
      "name": "python3",
      "display_name": "Python 3"
    },
    "language_info": {
      "name": "python"
    }
  },
  "cells": [
    {
      "cell_type": "markdown",
      "metadata": {
        "id": "HA3SLvqupl1X"
      },
      "source": [
        ""
      ]
    },
    {
      "cell_type": "code",
      "metadata": {
        "id": "64DG2V2EplMP"
      },
      "source": [
        ""
      ],
      "execution_count": null,
      "outputs": []
    },
    {
      "cell_type": "markdown",
      "metadata": {
        "id": "R3Gwz0yliLOc"
      },
      "source": [
        "# Question 6"
      ]
    },
    {
      "cell_type": "code",
      "metadata": {
        "colab": {
          "base_uri": "https://localhost:8080/"
        },
        "id": "uyzSbf2-iJu3",
        "outputId": "d61c8822-3ad9-4e9c-ea19-646a877b1e66"
      },
      "source": [
        "dict_list=[{'name': 'affirm', 'confidence': 0.9448149204254}, {'name': 'affirm', 'confidence': 0.944814920425415}, {'name': 'inform', 'confidence': 0.9842240810394287}, {'name': 'inform', 'confidence': 0.9842240810394287}]\n",
        "b = list(map(dict, set(tuple(sorted(sub.items())) for sub in dict_list)))\n",
        "print(b)"
      ],
      "execution_count": 9,
      "outputs": [
        {
          "output_type": "stream",
          "name": "stdout",
          "text": [
            "[{'confidence': 0.9448149204254, 'name': 'affirm'}, {'confidence': 0.944814920425415, 'name': 'affirm'}, {'confidence': 0.9842240810394287, 'name': 'inform'}]\n"
          ]
        }
      ]
    },
    {
      "cell_type": "markdown",
      "metadata": {
        "id": "I61ULRfzgPBx"
      },
      "source": [
        "# **Question** **7**"
      ]
    },
    {
      "cell_type": "code",
      "metadata": {
        "id": "OFR_2nOZbre7"
      },
      "source": [
        "def Check_validity_password(str):\n",
        "    n = str.length()\n",
        "    if (n<6 or n>16):\n",
        "        return False\n",
        "    special=0\n",
        "    num=0\n",
        "    small_Letter=0\n",
        "    Cap_Letter=0\n",
        "    for i in str:\n",
        "        if (i>='a' and i<='z'):\n",
        "            small_Letter += 1\n",
        "        elif (i>='A' and i<='Z'):\n",
        "            Cap_Letter += 1\n",
        "        elif (i>='0' and i<='9'):\n",
        "            num += 1\n",
        "        else :\n",
        "            special += 1\n",
        "    if (special==0 or num==0 or small_Letter==0 or Cap_Letter==0):\n",
        "        return False\n",
        "    return True"
      ],
      "execution_count": 6,
      "outputs": []
    },
    {
      "cell_type": "markdown",
      "metadata": {
        "id": "jdiQSi5nc3-h"
      },
      "source": [
        ""
      ]
    },
    {
      "cell_type": "markdown",
      "metadata": {
        "id": "c-YfXM0Aczlx"
      },
      "source": [
        "# Question 8"
      ]
    },
    {
      "cell_type": "code",
      "metadata": {
        "colab": {
          "base_uri": "https://localhost:8080/"
        },
        "id": "EW7s-l3Uc9LA",
        "outputId": "d05b882e-3fce-4b00-a889-dc01f990abab"
      },
      "source": [
        "def add_Dict(d1, d2):\n",
        "    d3 = {}\n",
        "    for i, j in d1.items():\n",
        "        d3[i] = 0\n",
        "    for x, y in d2.items():\n",
        "        d3[x] = 0\n",
        "\n",
        "    for i, j in d1.items():\n",
        "        d3[i] += j\n",
        "    for i, j in d2.items():\n",
        "        d3[i] += j\n",
        "    return d3\n",
        "\n",
        "d1 = {'a': 100, 'b': 200, 'c':300}\n",
        "d2 = {'a': 300, 'b': 200, 'd':400}\n",
        "d3 = add_Dict(d1, d2)\n",
        "print(d3)"
      ],
      "execution_count": 5,
      "outputs": [
        {
          "output_type": "stream",
          "name": "stdout",
          "text": [
            "{'a': 400, 'b': 400, 'c': 300, 'd': 400}\n"
          ]
        }
      ]
    }
  ]
}