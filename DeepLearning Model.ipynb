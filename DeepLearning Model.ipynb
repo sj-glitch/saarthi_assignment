{
 "cells": [
  {
   "cell_type": "code",
   "execution_count": 1,
   "metadata": {},
   "outputs": [],
   "source": [
    "import numpy as np\n",
    "import pandas as pd"
   ]
  },
  {
   "cell_type": "code",
   "execution_count": 2,
   "metadata": {},
   "outputs": [
    {
     "data": {
      "text/plain": [
       "path             object\n",
       "transcription    object\n",
       "action           object\n",
       "object           object\n",
       "location         object\n",
       "dtype: object"
      ]
     },
     "execution_count": 2,
     "metadata": {},
     "output_type": "execute_result"
    }
   ],
   "source": [
    "df = pd.read_csv('train_data.csv')\n",
    "df.head()\n",
    "df.dtypes"
   ]
  },
  {
   "cell_type": "code",
   "execution_count": 3,
   "metadata": {},
   "outputs": [
    {
     "data": {
      "text/plain": [
       "0                    Turn on the kitchen lights\n",
       "1                       Turn up the temperature\n",
       "2    OK now switch the main language to Chinese\n",
       "3            Turn down the bathroom temperature\n",
       "4                           Change the language\n",
       "Name: transcription, dtype: object"
      ]
     },
     "execution_count": 3,
     "metadata": {},
     "output_type": "execute_result"
    }
   ],
   "source": [
    "train_data_text = df['transcription']\n",
    "train_data_text.head()"
   ]
  },
  {
   "cell_type": "code",
   "execution_count": 4,
   "metadata": {},
   "outputs": [
    {
     "data": {
      "text/html": [
       "<div>\n",
       "<style scoped>\n",
       "    .dataframe tbody tr th:only-of-type {\n",
       "        vertical-align: middle;\n",
       "    }\n",
       "\n",
       "    .dataframe tbody tr th {\n",
       "        vertical-align: top;\n",
       "    }\n",
       "\n",
       "    .dataframe thead th {\n",
       "        text-align: right;\n",
       "    }\n",
       "</style>\n",
       "<table border=\"1\" class=\"dataframe\">\n",
       "  <thead>\n",
       "    <tr style=\"text-align: right;\">\n",
       "      <th></th>\n",
       "      <th>action</th>\n",
       "      <th>object</th>\n",
       "      <th>location</th>\n",
       "    </tr>\n",
       "  </thead>\n",
       "  <tbody>\n",
       "    <tr>\n",
       "      <th>0</th>\n",
       "      <td>activate</td>\n",
       "      <td>lights</td>\n",
       "      <td>kitchen</td>\n",
       "    </tr>\n",
       "    <tr>\n",
       "      <th>1</th>\n",
       "      <td>increase</td>\n",
       "      <td>heat</td>\n",
       "      <td>none</td>\n",
       "    </tr>\n",
       "    <tr>\n",
       "      <th>2</th>\n",
       "      <td>change language</td>\n",
       "      <td>Chinese</td>\n",
       "      <td>none</td>\n",
       "    </tr>\n",
       "    <tr>\n",
       "      <th>3</th>\n",
       "      <td>decrease</td>\n",
       "      <td>heat</td>\n",
       "      <td>washroom</td>\n",
       "    </tr>\n",
       "    <tr>\n",
       "      <th>4</th>\n",
       "      <td>change language</td>\n",
       "      <td>none</td>\n",
       "      <td>none</td>\n",
       "    </tr>\n",
       "  </tbody>\n",
       "</table>\n",
       "</div>"
      ],
      "text/plain": [
       "            action   object  location\n",
       "0         activate   lights   kitchen\n",
       "1         increase     heat      none\n",
       "2  change language  Chinese      none\n",
       "3         decrease     heat  washroom\n",
       "4  change language     none      none"
      ]
     },
     "execution_count": 4,
     "metadata": {},
     "output_type": "execute_result"
    }
   ],
   "source": [
    "train_data_labels = df[df.columns[[2,3,4]]]\n",
    "train_data_labels.head()"
   ]
  },
  {
   "cell_type": "code",
   "execution_count": 5,
   "metadata": {},
   "outputs": [
    {
     "data": {
      "text/plain": [
       "array([['activate', 'lights', 'kitchen'],\n",
       "       ['increase', 'heat', 'none'],\n",
       "       ['change language', 'Chinese', 'none'],\n",
       "       ...,\n",
       "       ['bring', 'shoes', 'none'],\n",
       "       ['decrease', 'volume', 'none'],\n",
       "       ['deactivate', 'lights', 'kitchen']], dtype=object)"
      ]
     },
     "execution_count": 5,
     "metadata": {},
     "output_type": "execute_result"
    }
   ],
   "source": [
    "train_labels_list = train_data_labels.values\n",
    "train_labels_list"
   ]
  },
  {
   "cell_type": "code",
   "execution_count": 6,
   "metadata": {},
   "outputs": [],
   "source": [
    "import tensorflow as tf\n",
    "from tensorflow import keras\n",
    "from tensorflow.keras.preprocessing.text import Tokenizer\n",
    "from tensorflow.keras.preprocessing.sequence import pad_sequences"
   ]
  },
  {
   "cell_type": "code",
   "execution_count": 7,
   "metadata": {},
   "outputs": [],
   "source": [
    "num_words = 10000\n",
    "oov_token = '<OOV>'\n",
    "pad_type = 'post'\n",
    "trunc_type = 'post'"
   ]
  },
  {
   "cell_type": "code",
   "execution_count": 8,
   "metadata": {},
   "outputs": [
    {
     "name": "stdout",
     "output_type": "stream",
     "text": [
      "{'<OOV>': 1, 'the': 2, 'turn': 3, 'in': 4, 'lights': 5, 'on': 6, 'up': 7, 'down': 8, 'heat': 9, 'temperature': 10, 'switch': 11, 'kitchen': 12, 'off': 13, 'bedroom': 14, 'language': 15, 'volume': 16, 'washroom': 17, 'bathroom': 18, 'my': 19, 'to': 20, 'increase': 21, 'decrease': 22, 'heating': 23, 'music': 24, 'bring': 25, 'me': 26, 'set': 27, 'too': 28, 'lamp': 29, 'i': 30, 'get': 31, 'it': 32, 'sound': 33, 'need': 34, 'make': 35, 'newspaper': 36, 'shoes': 37, 'socks': 38, 'loud': 39, 'louder': 40, 'juice': 41, 'chinese': 42, 'some': 43, 'english': 44, 'go': 45, 'practice': 46, 'could': 47, 'you': 48, \"phone's\": 49, 'ok': 50, 'now': 51, 'main': 52, 'korean': 53, 'german': 54, 'change': 55, 'stop': 56, 'fetch': 57, 'play': 58, 'please': 59, 'quiet': 60, 'hear': 61, 'pause': 62, 'it’s': 63, 'audio': 64, 'quieter': 65, 'resume': 66, 'far': 67, 'lower': 68, 'a': 69, 'different': 70, 'this': 71, 'settings': 72, 'start': 73, 'reduce': 74, 'more': 75, 'put': 76, 'max': 77, 'phone': 78, 'less': 79, 'mute': 80, 'cooler': 81, 'languages': 82, 'use': 83, 'hotter': 84, \"that's\": 85, 'softer': 86, 'that’s': 87, 'system': 88, 'allow': 89, 'levels': 90, \"couldn't\": 91, 'anything': 92, 'open': 93, \"can't\": 94, 'that': 95, 'device': 96, 'video': 97, 'is': 98, 'low': 99}\n"
     ]
    }
   ],
   "source": [
    "tokenizer = Tokenizer(num_words=num_words, oov_token=oov_token)\n",
    "tokenizer.fit_on_texts(train_data_text)\n",
    "word_index = tokenizer.word_index\n",
    "print(word_index)"
   ]
  },
  {
   "cell_type": "code",
   "execution_count": 9,
   "metadata": {},
   "outputs": [
    {
     "data": {
      "text/plain": [
       "(11566, 10)"
      ]
     },
     "execution_count": 9,
     "metadata": {},
     "output_type": "execute_result"
    }
   ],
   "source": [
    "train_data = tokenizer.texts_to_sequences(train_data_text)\n",
    "train_data = pad_sequences(train_data, padding='post')\n",
    "np.shape(train_data)\n",
    "#train_data"
   ]
  },
  {
   "cell_type": "code",
   "execution_count": 10,
   "metadata": {
    "scrolled": true
   },
   "outputs": [
    {
     "data": {
      "text/plain": [
       "(11566, 3)"
      ]
     },
     "execution_count": 10,
     "metadata": {},
     "output_type": "execute_result"
    }
   ],
   "source": [
    "def lower_(s):\n",
    "    return [s[0].lower(), s[1].lower(), s[2].lower()]\n",
    "result = list(map(lower_, train_labels_list))\n",
    "\n",
    "#print(result)\n",
    "\n",
    "train_label = tokenizer.texts_to_sequences(result)\n",
    "np.shape(train_label)\n",
    "#train_label"
   ]
  },
  {
   "cell_type": "code",
   "execution_count": 11,
   "metadata": {},
   "outputs": [],
   "source": [
    "#train_action = df['action']\n",
    "#train_object = df['object']\n",
    "#train_location = df['location']\n",
    "#tokenizer.fit_on_texts(train_action)\n",
    "#tokenizer.fit_on_texts(train_object)\n",
    "#tokenizer.fit_on_texts(train_location)\n",
    "#train_action = tokenizer.texts_to_sequences(train_action)\n",
    "#train_object = tokenizer.texts_to_sequences(train_object)\n",
    "#train_location = tokenizer.texts_to_sequences(train_location)\n",
    "\n",
    "#train_action = pad_sequences(train_action, padding='post')\n",
    "#train_object = pad_sequences(train_object, padding='post')\n",
    "#train_location = pad_sequences(train_location, padding='post')\n",
    "#train_location.shape"
   ]
  },
  {
   "cell_type": "code",
   "execution_count": 12,
   "metadata": {},
   "outputs": [],
   "source": [
    "#train_labels = concatenate(train_action , train_object , train_location)\n",
    "#train_labels"
   ]
  },
  {
   "cell_type": "code",
   "execution_count": 13,
   "metadata": {},
   "outputs": [],
   "source": [
    "from tensorflow.keras.models import Sequential\n",
    "from tensorflow.keras.layers import Dense, Dropout, Activation, Flatten\n",
    "from tensorflow.keras.optimizers import Adam\n",
    "from sklearn import metrics"
   ]
  },
  {
   "cell_type": "code",
   "execution_count": 35,
   "metadata": {},
   "outputs": [],
   "source": [
    "model = Sequential()\n",
    "model.add(Dense(100, input_shape=(10,)))\n",
    "model.add(Activation('relu'))\n",
    "model.add(Dropout(0.5))\n",
    "\n",
    "model.add(Dense(200))\n",
    "model.add(Activation('relu'))\n",
    "model.add(Dropout(0.5))\n",
    "\n",
    "model.add(Dense(100))\n",
    "model.add(Activation('relu'))\n",
    "model.add(Dropout(0.5))\n",
    "\n",
    "model.add(Dense(3))\n",
    "#model.add(Activation('softmax'))"
   ]
  },
  {
   "cell_type": "code",
   "execution_count": 36,
   "metadata": {
    "scrolled": true
   },
   "outputs": [
    {
     "name": "stdout",
     "output_type": "stream",
     "text": [
      "Model: \"sequential_3\"\n",
      "_________________________________________________________________\n",
      "Layer (type)                 Output Shape              Param #   \n",
      "=================================================================\n",
      "dense_12 (Dense)             (None, 100)               1100      \n",
      "_________________________________________________________________\n",
      "activation_11 (Activation)   (None, 100)               0         \n",
      "_________________________________________________________________\n",
      "dropout_9 (Dropout)          (None, 100)               0         \n",
      "_________________________________________________________________\n",
      "dense_13 (Dense)             (None, 200)               20200     \n",
      "_________________________________________________________________\n",
      "activation_12 (Activation)   (None, 200)               0         \n",
      "_________________________________________________________________\n",
      "dropout_10 (Dropout)         (None, 200)               0         \n",
      "_________________________________________________________________\n",
      "dense_14 (Dense)             (None, 100)               20100     \n",
      "_________________________________________________________________\n",
      "activation_13 (Activation)   (None, 100)               0         \n",
      "_________________________________________________________________\n",
      "dropout_11 (Dropout)         (None, 100)               0         \n",
      "_________________________________________________________________\n",
      "dense_15 (Dense)             (None, 3)                 303       \n",
      "=================================================================\n",
      "Total params: 41,703\n",
      "Trainable params: 41,703\n",
      "Non-trainable params: 0\n",
      "_________________________________________________________________\n"
     ]
    }
   ],
   "source": [
    "model.summary()"
   ]
  },
  {
   "cell_type": "code",
   "execution_count": 37,
   "metadata": {},
   "outputs": [],
   "source": [
    "model.compile(loss='categorical_crossentropy', metrics='accuracy', optimizer='adam')"
   ]
  },
  {
   "cell_type": "code",
   "execution_count": 38,
   "metadata": {},
   "outputs": [
    {
     "name": "stdout",
     "output_type": "stream",
     "text": [
      "(3118, 10)\n",
      "(3118, 3)\n"
     ]
    }
   ],
   "source": [
    "df_val = pd.read_csv('valid_data.csv')\n",
    "\n",
    "valid_data = tokenizer.texts_to_sequences(df_val['transcription'])\n",
    "valid_data = pad_sequences(valid_data, padding='post')\n",
    "print(np.shape(valid_data))\n",
    "\n",
    "valid_labels = df_val[df_val.columns[[2,3,4]]]\n",
    "valid_labels = valid_labels.values\n",
    "#valid_labels\n",
    "def lower_(s):\n",
    "    return [s[0].lower(), s[1].lower(), s[2].lower()]\n",
    "val_label = list(map(lower_, valid_labels))\n",
    "\n",
    "#print(val_label)\n",
    "\n",
    "val_label = tokenizer.texts_to_sequences(val_label)\n",
    "print(np.shape(val_label))"
   ]
  },
  {
   "cell_type": "code",
   "execution_count": 39,
   "metadata": {},
   "outputs": [
    {
     "name": "stdout",
     "output_type": "stream",
     "text": [
      "Epoch 1/50\n",
      "362/362 [==============================] - 1s 2ms/step - loss: 52.2266 - accuracy: 0.4128 - val_loss: 35.2149 - val_accuracy: 0.3958\n",
      "Epoch 2/50\n",
      "362/362 [==============================] - 1s 2ms/step - loss: 36.0255 - accuracy: 0.4367 - val_loss: 33.7556 - val_accuracy: 0.5003\n",
      "Epoch 3/50\n",
      "362/362 [==============================] - 1s 2ms/step - loss: 35.1898 - accuracy: 0.4748 - val_loss: 32.7683 - val_accuracy: 0.5241\n",
      "Epoch 4/50\n",
      "362/362 [==============================] - 1s 2ms/step - loss: 34.0825 - accuracy: 0.4935 - val_loss: 32.2192 - val_accuracy: 0.5638\n",
      "Epoch 5/50\n",
      "362/362 [==============================] - 1s 2ms/step - loss: 33.6683 - accuracy: 0.5160 - val_loss: 31.5936 - val_accuracy: 0.5494\n",
      "Epoch 6/50\n",
      "362/362 [==============================] - 1s 2ms/step - loss: 33.2923 - accuracy: 0.5442 - val_loss: 31.1273 - val_accuracy: 0.5273\n",
      "Epoch 7/50\n",
      "362/362 [==============================] - 1s 2ms/step - loss: 34.8931 - accuracy: 0.5670 - val_loss: 30.7475 - val_accuracy: 0.6466\n",
      "Epoch 8/50\n",
      "362/362 [==============================] - 1s 2ms/step - loss: 37.7503 - accuracy: 0.5729 - val_loss: 31.2071 - val_accuracy: 0.5372\n",
      "Epoch 9/50\n",
      "362/362 [==============================] - 1s 2ms/step - loss: 34.2094 - accuracy: 0.5404 - val_loss: 40.1456 - val_accuracy: 0.5555\n",
      "Epoch 10/50\n",
      "362/362 [==============================] - 1s 2ms/step - loss: 42.1655 - accuracy: 0.5672 - val_loss: 30.7872 - val_accuracy: 0.5032\n",
      "Epoch 11/50\n",
      "362/362 [==============================] - 1s 2ms/step - loss: 33.3771 - accuracy: 0.5368 - val_loss: 29.9726 - val_accuracy: 0.6309\n",
      "Epoch 12/50\n",
      "362/362 [==============================] - 1s 2ms/step - loss: 36.1507 - accuracy: 0.5667 - val_loss: 30.6768 - val_accuracy: 0.5500\n",
      "Epoch 13/50\n",
      "362/362 [==============================] - 1s 2ms/step - loss: 34.7862 - accuracy: 0.5386 - val_loss: 33.4673 - val_accuracy: 0.5802\n",
      "Epoch 14/50\n",
      "362/362 [==============================] - 1s 2ms/step - loss: 36.2567 - accuracy: 0.5657 - val_loss: 34.2941 - val_accuracy: 0.6270\n",
      "Epoch 15/50\n",
      "362/362 [==============================] - 1s 2ms/step - loss: 34.9312 - accuracy: 0.5681 - val_loss: 29.6764 - val_accuracy: 0.6135\n",
      "Epoch 16/50\n",
      "362/362 [==============================] - 1s 2ms/step - loss: 35.3981 - accuracy: 0.5749 - val_loss: 31.8498 - val_accuracy: 0.6405\n",
      "Epoch 17/50\n",
      "362/362 [==============================] - 1s 2ms/step - loss: 37.8907 - accuracy: 0.5789 - val_loss: 29.6475 - val_accuracy: 0.6357\n",
      "Epoch 18/50\n",
      "362/362 [==============================] - 1s 2ms/step - loss: 36.4292 - accuracy: 0.5949 - val_loss: 38.3539 - val_accuracy: 0.6988\n",
      "Epoch 19/50\n",
      "362/362 [==============================] - 1s 2ms/step - loss: 36.7575 - accuracy: 0.5923 - val_loss: 33.9751 - val_accuracy: 0.5686\n",
      "Epoch 20/50\n",
      "362/362 [==============================] - 1s 2ms/step - loss: 35.3251 - accuracy: 0.6142 - val_loss: 33.9821 - val_accuracy: 0.7405\n",
      "Epoch 21/50\n",
      "362/362 [==============================] - 1s 2ms/step - loss: 36.2129 - accuracy: 0.6278 - val_loss: 35.8969 - val_accuracy: 0.7389\n",
      "Epoch 22/50\n",
      "362/362 [==============================] - 1s 2ms/step - loss: 34.6894 - accuracy: 0.6101 - val_loss: 29.7492 - val_accuracy: 0.7261\n",
      "Epoch 23/50\n",
      "362/362 [==============================] - 1s 2ms/step - loss: 33.6601 - accuracy: 0.6143 - val_loss: 29.3691 - val_accuracy: 0.7518\n",
      "Epoch 24/50\n",
      "362/362 [==============================] - 1s 2ms/step - loss: 31.9759 - accuracy: 0.6284 - val_loss: 29.3185 - val_accuracy: 0.7575\n",
      "Epoch 25/50\n",
      "362/362 [==============================] - 1s 1ms/step - loss: 32.1519 - accuracy: 0.6436 - val_loss: 34.7442 - val_accuracy: 0.7466\n",
      "Epoch 26/50\n",
      "362/362 [==============================] - 1s 1ms/step - loss: 32.6107 - accuracy: 0.6421 - val_loss: 29.2922 - val_accuracy: 0.7473\n",
      "Epoch 27/50\n",
      "362/362 [==============================] - 1s 2ms/step - loss: 32.5523 - accuracy: 0.6511 - val_loss: 29.3394 - val_accuracy: 0.7662\n",
      "Epoch 28/50\n",
      "362/362 [==============================] - 1s 2ms/step - loss: 35.0589 - accuracy: 0.6650 - val_loss: 31.8677 - val_accuracy: 0.7768\n",
      "Epoch 29/50\n",
      "362/362 [==============================] - 1s 2ms/step - loss: 38.8950 - accuracy: 0.6639 - val_loss: 38.4302 - val_accuracy: 0.7588\n",
      "Epoch 30/50\n",
      "362/362 [==============================] - 1s 1ms/step - loss: 34.6440 - accuracy: 0.6731 - val_loss: 29.1381 - val_accuracy: 0.7530\n",
      "Epoch 31/50\n",
      "362/362 [==============================] - 1s 1ms/step - loss: 33.8002 - accuracy: 0.6803 - val_loss: 31.3923 - val_accuracy: 0.7723\n",
      "Epoch 32/50\n",
      "362/362 [==============================] - 1s 2ms/step - loss: 34.7338 - accuracy: 0.6839 - val_loss: 29.2407 - val_accuracy: 0.7636\n",
      "Epoch 33/50\n",
      "362/362 [==============================] - 1s 2ms/step - loss: 35.0478 - accuracy: 0.6855 - val_loss: 29.4442 - val_accuracy: 0.7983\n",
      "Epoch 34/50\n",
      "362/362 [==============================] - 1s 2ms/step - loss: 31.7778 - accuracy: 0.6670 - val_loss: 29.0481 - val_accuracy: 0.7479\n",
      "Epoch 35/50\n",
      "362/362 [==============================] - 1s 2ms/step - loss: 33.6606 - accuracy: 0.6929 - val_loss: 31.0939 - val_accuracy: 0.8021\n",
      "Epoch 36/50\n",
      "362/362 [==============================] - 1s 2ms/step - loss: 33.2058 - accuracy: 0.6964 - val_loss: 28.7786 - val_accuracy: 0.7960\n",
      "Epoch 37/50\n",
      "362/362 [==============================] - 1s 2ms/step - loss: 34.4143 - accuracy: 0.7032 - val_loss: 32.4228 - val_accuracy: 0.8063\n",
      "Epoch 38/50\n",
      "362/362 [==============================] - 1s 2ms/step - loss: 37.9283 - accuracy: 0.6936 - val_loss: 40.8389 - val_accuracy: 0.8098\n",
      "Epoch 39/50\n",
      "362/362 [==============================] - 1s 2ms/step - loss: 36.8028 - accuracy: 0.6939 - val_loss: 29.0537 - val_accuracy: 0.7604\n",
      "Epoch 40/50\n",
      "362/362 [==============================] - 1s 2ms/step - loss: 33.5110 - accuracy: 0.6909 - val_loss: 31.0958 - val_accuracy: 0.7723\n",
      "Epoch 41/50\n",
      "362/362 [==============================] - 1s 1ms/step - loss: 35.6651 - accuracy: 0.7103 - val_loss: 36.0458 - val_accuracy: 0.8156\n",
      "Epoch 42/50\n",
      "362/362 [==============================] - 1s 2ms/step - loss: 35.9029 - accuracy: 0.6845 - val_loss: 29.3448 - val_accuracy: 0.7867\n",
      "Epoch 43/50\n",
      "362/362 [==============================] - 1s 2ms/step - loss: 33.6815 - accuracy: 0.6885 - val_loss: 31.0399 - val_accuracy: 0.8018\n",
      "Epoch 44/50\n",
      "362/362 [==============================] - 1s 2ms/step - loss: 34.8192 - accuracy: 0.6975 - val_loss: 37.9627 - val_accuracy: 0.8050\n",
      "Epoch 45/50\n",
      "362/362 [==============================] - 1s 2ms/step - loss: 36.3386 - accuracy: 0.6983 - val_loss: 29.4670 - val_accuracy: 0.7960\n",
      "Epoch 46/50\n",
      "362/362 [==============================] - 1s 1ms/step - loss: 34.8824 - accuracy: 0.6934 - val_loss: 31.9206 - val_accuracy: 0.7938\n",
      "Epoch 47/50\n",
      "362/362 [==============================] - 1s 1ms/step - loss: 35.0632 - accuracy: 0.6877 - val_loss: 29.0358 - val_accuracy: 0.7845\n",
      "Epoch 48/50\n",
      "362/362 [==============================] - 1s 1ms/step - loss: 33.3153 - accuracy: 0.6717 - val_loss: 29.0627 - val_accuracy: 0.7854\n",
      "Epoch 49/50\n",
      "362/362 [==============================] - 1s 1ms/step - loss: 31.7161 - accuracy: 0.6818 - val_loss: 28.9394 - val_accuracy: 0.7694\n",
      "Epoch 50/50\n",
      "362/362 [==============================] - 1s 1ms/step - loss: 32.3382 - accuracy: 0.6878 - val_loss: 28.8188 - val_accuracy: 0.7842\n"
     ]
    },
    {
     "data": {
      "text/plain": [
       "<tensorflow.python.keras.callbacks.History at 0x7f77643fb760>"
      ]
     },
     "execution_count": 39,
     "metadata": {},
     "output_type": "execute_result"
    }
   ],
   "source": [
    "X_train = train_data\n",
    "y_train = np.array(train_label)\n",
    "X_val = valid_data\n",
    "y_val = np.array(val_label)\n",
    "num_batch_size = 32\n",
    "num_epochs = 50\n",
    "\n",
    "model.fit(X_train, y_train, batch_size=num_batch_size, epochs=num_epochs, validation_data=(X_val, y_val))"
   ]
  },
  {
   "cell_type": "code",
   "execution_count": 40,
   "metadata": {},
   "outputs": [
    {
     "name": "stdout",
     "output_type": "stream",
     "text": [
      "(11566, 10)\n",
      "(11566, 3)\n",
      "(3118, 10)\n",
      "(3118, 3)\n"
     ]
    }
   ],
   "source": [
    "print(X_train.shape)\n",
    "print(y_train.shape)\n",
    "print(X_val.shape)\n",
    "print(y_val.shape)"
   ]
  },
  {
   "cell_type": "code",
   "execution_count": 41,
   "metadata": {
    "scrolled": true
   },
   "outputs": [
    {
     "name": "stdout",
     "output_type": "stream",
     "text": [
      "[[ 51.213375   38.010662    3.4935455]\n",
      " [118.88107    91.396       6.738011 ]\n",
      " [134.32956   379.22208    15.33612  ]\n",
      " ...\n",
      " [ 26.20904    41.51264     2.7789607]\n",
      " [119.26259    93.092964    6.8237934]\n",
      " [ 35.01943    45.75925     3.2574496]]\n"
     ]
    }
   ],
   "source": [
    "prediction = model.predict(X_val)\n",
    "print(prediction)"
   ]
  },
  {
   "cell_type": "code",
   "execution_count": null,
   "metadata": {},
   "outputs": [],
   "source": []
  }
 ],
 "metadata": {
  "kernelspec": {
   "display_name": "Python 3",
   "language": "python",
   "name": "python3"
  },
  "language_info": {
   "codemirror_mode": {
    "name": "ipython",
    "version": 3
   },
   "file_extension": ".py",
   "mimetype": "text/x-python",
   "name": "python",
   "nbconvert_exporter": "python",
   "pygments_lexer": "ipython3",
   "version": "3.8.10"
  }
 },
 "nbformat": 4,
 "nbformat_minor": 4
}
